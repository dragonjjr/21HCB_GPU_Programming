{
 "cells": [
  {
   "cell_type": "markdown",
   "metadata": {
    "id": "eGBgThS8q8k3"
   },
   "source": [
    "#### Nhóm Sinh Viên báo cáo\n",
    "\n",
    "21424028: Nguyễn An Khương\n",
    "\n",
    "21424031: Mai Văn Long\n",
    "\n",
    "21424057: Phan Văn Tình"
   ]
  },
  {
   "cell_type": "code",
   "execution_count": 1,
   "metadata": {
    "id": "ndh56odV3lPm"
   },
   "outputs": [],
   "source": [
    "import cv2\n",
    "import numpy as np\n",
    "from matplotlib import pyplot as plt\n",
    "from PIL import Image\n",
    "\n",
    "from numba import cuda\n",
    "major, minor = cuda.get_current_device().compute_capability\n",
    "print(f'GPU compute capability: {major}.{minor}')"
   ]
  },
  {
   "cell_type": "code",
   "execution_count": null,
   "metadata": {
    "id": "FxQxZTY88VGK"
   },
   "outputs": [],
   "source": [
    "def edge_detection(image_path, blur_ksize=7, sobel_ksize=1, skipping_threshold=30):\n",
    "    \"\"\"\n",
    "    image_path: link to image\n",
    "    blur_ksize: kernel size parameter for Gaussian Blurry\n",
    "    sobel_ksize: size of the extended Sobel kernel; it must be 1, 3, 5, or 7.\n",
    "    skipping_threshold: ignore weakly edge\n",
    "    \"\"\"\n",
    "    # read image\n",
    "    img = cv2.imread(image_path)\n",
    "    \n",
    "    # convert BGR to gray\n",
    "    gray = cv2.cvtColor(img, cv2.COLOR_BGR2GRAY)\n",
    "    img_gaussian = cv2.GaussianBlur(gray, (blur_ksize, blur_ksize), 0)\n",
    "    \n",
    "    # sobel algorthm use cv2.CV_64F\n",
    "    sobelx64f = cv2.Sobel(img_gaussian, cv2.CV_64F, 1, 0, ksize=sobel_ksize)\n",
    "    abs_sobel64f = np.absolute(sobelx64f)\n",
    "    img_sobelx = np.uint8(abs_sobel64f)\n",
    "\n",
    "    sobely64f = cv2.Sobel(img_gaussian, cv2.CV_64F, 1, 0, ksize=sobel_ksize)\n",
    "    abs_sobel64f = np.absolute(sobely64f)\n",
    "    img_sobely = np.uint8(abs_sobel64f)\n",
    "    \n",
    "    # calculate magnitude\n",
    "    img_sobel = (img_sobelx + img_sobely)/2\n",
    "    \n",
    "    # ignore weakly pixel\n",
    "    for i in range(img_sobel.shape[0]):\n",
    "        for j in range(img_sobel.shape[1]):\n",
    "            if img_sobel[i][j] < skipping_threshold:\n",
    "                img_sobel[i][j] = 0\n",
    "            else:\n",
    "                img_sobel[i][j] = 255\n",
    "    return img_sobel"
   ]
  },
  {
   "cell_type": "code",
   "execution_count": null,
   "metadata": {},
   "outputs": [],
   "source": [
    "#Hiển thị hình ảnh gốc và ảnh đã qua edge detection\n",
    "img = cv2.imread(\"in.pnm\", 0)\n",
    "# Find edge with Canny edge detection\n",
    "edges = edge_detection(\"in.pnm\")\n",
    "\n",
    "# display results\n",
    "plt.subplot(121), plt.imshow(img, cmap='gray')\n",
    "plt.title('Original Image'), plt.xticks([]), plt.yticks([])\n",
    "plt.subplot(122), plt.imshow(edges, cmap='gray')\n",
    "plt.title('Edge Image'), plt.xticks([]), plt.yticks([])\n",
    "\n",
    "plt.show()"
   ]
  },
  {
   "cell_type": "code",
   "execution_count": null,
   "metadata": {
    "id": "bP75jn2n8XTt"
   },
   "outputs": [],
   "source": [
    "#Hiển thị hình ảnh pnm\n",
    "def show_pnm(file_name):\n",
    "  with open(file_name, 'r') as f:\n",
    "    vals = f.read().split()\n",
    "  w = int(vals[1])\n",
    "  h = int(vals[2])\n",
    "  if vals[0] == 'P2': # Grayscale\n",
    "    pixels = np.array(vals[4:], dtype=np.uint8).reshape((h, w))\n",
    "  elif vals[0] == 'P3': # RGB\n",
    "    pixels = np.array(vals[4:], dtype=np.uint8).reshape((h, w, 3))\n",
    "  else:\n",
    "    return None\n",
    "  \n",
    "  return Image.fromarray(pixels)"
   ]
  },
  {
   "cell_type": "markdown",
   "metadata": {},
   "source": [
    "#### Thực thi build các phiên bản"
   ]
  },
  {
   "cell_type": "code",
   "execution_count": 4,
   "metadata": {
    "colab": {
     "base_uri": "https://localhost:8080/"
    },
    "executionInfo": {
     "elapsed": 1783,
     "status": "ok",
     "timestamp": 1682218623366,
     "user": {
      "displayName": "Tình Phan Văn",
      "userId": "07714710287049007993"
     },
     "user_tz": -420
    },
    "id": "tbFLx1i4JxIE",
    "outputId": "4425f32b-f442-4128-954f-ebb4f9d44041"
   },
   "outputs": [
    {
     "name": "stderr",
     "output_type": "stream",
     "text": [
      "'nvcc' is not recognized as an internal or external command,\n",
      "operable program or batch file.\n",
      "'nvcc' is not recognized as an internal or external command,\n",
      "operable program or batch file.\n",
      "'nvcc' is not recognized as an internal or external command,\n",
      "operable program or batch file.\n"
     ]
    }
   ],
   "source": [
    "!nvcc \"/content/drive/MyDrive/GPU/seamcarving_v1.cu\" -o DA_1\n",
    "!nvcc \"/content/drive/MyDrive/GPU/seamcarving_v2.cu\" -o DA_2\n",
    "!nvcc \"/content/drive/MyDrive/GPU/seamcarving_v3.cu\" -o DA_3"
   ]
  },
  {
   "cell_type": "markdown",
   "metadata": {},
   "source": [
    "# 1. Mô tả ứng dụng"
   ]
  },
  {
   "cell_type": "markdown",
   "metadata": {},
   "source": [
    "- Input: một tấm ảnh (đồ án này: ảnh RGB)"
   ]
  },
  {
   "cell_type": "code",
   "execution_count": null,
   "metadata": {},
   "outputs": [],
   "source": [
    "show_pnm(\"in.pnm\")"
   ]
  },
  {
   "cell_type": "code",
   "execution_count": null,
   "metadata": {},
   "outputs": [],
   "source": [
    "!./DA_1 in.pnm 300"
   ]
  },
  {
   "cell_type": "markdown",
   "metadata": {},
   "source": [
    "- Output: tấm ảnh được thay đổi kích thước mà không làm biến dạng các\n",
    "đối tượng quan trọng (đồ án này: tấm ảnh được thu hẹp chiều rộng lại)"
   ]
  },
  {
   "cell_type": "code",
   "execution_count": null,
   "metadata": {},
   "outputs": [],
   "source": [
    "show_pnm(\"300_host.pnm\")"
   ]
  },
  {
   "cell_type": "markdown",
   "metadata": {},
   "source": [
    "- Ý nghĩa thực tế của ứng dụng: một use case là ta có thể muốn có các\n",
    "phiên bản với các kích thước khác nhau của cùng một tấm ảnh để hiển\n",
    "thị trên các thiết bị khác nhau (máy tính, điện thoại, …)\n",
    "- Ứng dụng này có cần tăng tốc không?\n",
    " + Cần, ứng dụng này chạy chậm khi cài đặt tuần tự"
   ]
  },
  {
   "cell_type": "markdown",
   "metadata": {},
   "source": [
    "Ứng dụng thay đổi kích thước ảnh sử dụng thuật toán seam carving"
   ]
  },
  {
   "cell_type": "markdown",
   "metadata": {},
   "source": [
    "#### Sau khi phân tích thuật toán seam carving, từ đó có những bước cần thực hiện sau:\n",
    "1. Đọc file ảnh màu input.\n",
    "2. Tiến hành chuyển ảnh màu sang ảnh xám.\n",
    "3. Sử dụng bộ lọc, tính độ quan trọng của các pixel, từ đó tính toán được các pixel có độ quan trọng thấp nhất.\n",
    "4. Tìm seam có độ quan trọng thấp nhất.\n",
    "5. Xóa seam tìm được.\n",
    "6. Lặp lại việc seam có độ quan trọng thấp nhất và xóa bỏ đến khi tìm được chiều dài mong mu"
   ]
  },
  {
   "cell_type": "markdown",
   "metadata": {},
   "source": [
    "# 2. Cài đặt tuần tự"
   ]
  },
  {
   "cell_type": "markdown",
   "metadata": {},
   "source": [
    "#### 1. Chuyển ảnh sang grayscale"
   ]
  },
  {
   "cell_type": "markdown",
   "metadata": {},
   "source": [
    "$Grayscale = 0.299 * R + 0.587 * G + 0.114 * B$"
   ]
  },
  {
   "cell_type": "code",
   "execution_count": null,
   "metadata": {},
   "outputs": [],
   "source": [
    "# Đọc ảnh PNM\n",
    "image = Image.open(\"grb_to_gray_in.pnm\")\n",
    "image"
   ]
  },
  {
   "cell_type": "markdown",
   "metadata": {},
   "source": [
    "#### 2. Tính độ quan trọng của mỗi pixel"
   ]
  },
  {
   "cell_type": "markdown",
   "metadata": {},
   "source": [
    "- Thực hiện convolution giữa ảnh grayscale với bộ lọc x-Sobe(1)"
   ]
  },
  {
   "cell_type": "markdown",
   "metadata": {},
   "source": [
    "| 1 | 0 | -1 |\n",
    "|:-------|:------:|-------:|\n",
    "| 2 | 0 | -2 |\n",
    "| 1 | 0 | -1 |"
   ]
  },
  {
   "cell_type": "markdown",
   "metadata": {},
   "source": [
    "| (1 * f(i-1,j-1)) | (0 * f(i-1,j)) | (-1 * f(i-1,j+1)) |\n",
    "|:-------|:------:|-------:|\n",
    "| (2 * f(i,j-1)) | (0 * f(i,j)) | (-2 * f(i,j+1)) |\n",
    "| (1 * f(i+1,j-1)) | (0 * f(i+1,j)) | (-1 * f(i+1,j+1)) |"
   ]
  },
  {
   "cell_type": "markdown",
   "metadata": {},
   "source": [
    "- Thực hiện convolution giữa ảnh grayscale với bộ lọc y-Sobe(2)"
   ]
  },
  {
   "cell_type": "markdown",
   "metadata": {},
   "source": [
    "\n",
    "| 1 | 2 | 1 |\n",
    "|:-------|:------:|-------:|\n",
    "| 2 | 0 | 0 |\n",
    "| -1 | -2 | -1 |"
   ]
  },
  {
   "cell_type": "markdown",
   "metadata": {},
   "source": [
    "Độ quan trọng của một pixel =  |kết quả tương ứng của (1)| + |kết quả tương ứng của (2)|\n"
   ]
  },
  {
   "cell_type": "markdown",
   "metadata": {},
   "source": [
    "#### 3. Tìm seam ít quan trọng nhất từ độ quan trọng của mỗi pixel"
   ]
  },
  {
   "cell_type": "markdown",
   "metadata": {},
   "source": [
    "- Bắt đầu từ height - 1 chúng ta sẽ tính tổng pixel hiện tại với 3 pixel ở hàng height + 1 (trái dưới - dưới - phải dưới) nếu tổng pixel là nhỏ nhất thì ta sẽ lấy giá trị đó làm pixel"
   ]
  },
  {
   "cell_type": "markdown",
   "metadata": {},
   "source": [
    "<img src=\"./Image/1.3.1.png\">\n",
    "<img src=\"./Image/1.3.2.png\">"
   ]
  },
  {
   "cell_type": "markdown",
   "metadata": {},
   "source": [
    "- Cứ tiếp tục làm cho đến khi height = 0 thì ta sẽ có mảng pixel như sau"
   ]
  },
  {
   "cell_type": "markdown",
   "metadata": {},
   "source": [
    "<img src=\"./Image/1.3.3.png\">"
   ]
  },
  {
   "cell_type": "markdown",
   "metadata": {},
   "source": [
    "- Sau đó ta sẽ đi tìm seam ít quan trọng nhất từ độ quan trọng của các pixel\n",
    "- Seam ít quan trọng nhất là seam có tổng pixel kề(dưới trái - dưới - dưới phải) là nhỏ nhất\n",
    "- Lấy pixel nhỏ nhất của row đầu sau đó so sánh với 3 pixel (dưới trái, dưới, dưới phải) và lấy pixel nhỏ nhất, lặp lại tới height thì dừng"
   ]
  },
  {
   "cell_type": "markdown",
   "metadata": {},
   "source": [
    "<img src=\"./Image/1.3.4.png\">"
   ]
  },
  {
   "cell_type": "markdown",
   "metadata": {},
   "source": [
    "#### 4. Xóa seam ít quan trọng nhất"
   ]
  },
  {
   "cell_type": "markdown",
   "metadata": {},
   "source": [
    "<img src=\"./Image/1.3.5.png\">"
   ]
  },
  {
   "cell_type": "markdown",
   "metadata": {},
   "source": [
    "### Lặp lại quá trình từ bước 1 đến bước 4 cho đến khi thu hẹp được chiều rộng như mong muốn"
   ]
  },
  {
   "cell_type": "markdown",
   "metadata": {},
   "source": [
    "Chạy thử thu hẹp chiều rộng bức hình xuống còn 500"
   ]
  },
  {
   "cell_type": "code",
   "execution_count": null,
   "metadata": {},
   "outputs": [],
   "source": [
    "!./DA_1 in.pnm 500"
   ]
  },
  {
   "cell_type": "code",
   "execution_count": null,
   "metadata": {},
   "outputs": [],
   "source": [
    "show_pnm(\"500_host.pnm\")"
   ]
  },
  {
   "cell_type": "markdown",
   "metadata": {},
   "source": [
    "Chạy thử thu hẹp chiều rộng bức hình xuống còn 400"
   ]
  },
  {
   "cell_type": "code",
   "execution_count": null,
   "metadata": {},
   "outputs": [],
   "source": [
    "!./DA_1 in.pnm 400"
   ]
  },
  {
   "cell_type": "code",
   "execution_count": null,
   "metadata": {},
   "outputs": [],
   "source": [
    "show_pnm(\"400_host.pnm\")"
   ]
  },
  {
   "cell_type": "markdown",
   "metadata": {},
   "source": [
    "# 3 .Cài đặt song song"
   ]
  },
  {
   "cell_type": "markdown",
   "metadata": {},
   "source": [
    "### Để tăng tốc độ thực hiện seam carving, có thể song song hóa các bước sau:\n",
    "\n",
    "\n",
    "- Bước chuyển ảnh sang grayscale không thực sự cần thiết cho quá trình seam carving, nhưng nó có thể được thực hiện song song để tăng tốc độ tính toán.\n",
    "\n",
    "- Tính độ quan trọng của từng pixel trong ảnh: Bước tính độ quan trọng của từng pixel có thể được song song hóa bằng cách chia ảnh thành các phần nhỏ và tính độ quan trọng của từng phần đó trên các thread khác nhau. Sau đó, kết quả có thể được tổng hợp lại để tính toán độ quan trọng của toàn bộ ảnh.\n",
    "\n",
    "- Tìm seam ít quan trọng nhất: Bước tìm seam ít quan trọng nhất có thể được song song hóa bằng cách sử dụng thuật toán tìm kiếm đường đi ít quan trọng nhất trên nhiều thread đồng thời. Mỗi thread sẽ tìm kiếm một phần của ảnh và trả về seam có độ quan trọng nhỏ nhất trên phần đó. Sau đó, các seam được so sánh để tìm ra seam có độ quan trọng nhỏ nhất trên toàn bộ ảnh."
   ]
  },
  {
   "cell_type": "markdown",
   "metadata": {},
   "source": [
    "# 4 .Cài đặt tối ưu hóa"
   ]
  },
  {
   "cell_type": "markdown",
   "metadata": {},
   "source": [
    " - Tối ưu hóa hàm convert từ ảnh RGB sang ảnh xám\n",
    " - Tính độ quan trọng của các pixel (sử dụng cache memory ở v3 cho tham số x filter, y filter)\n",
    " - Lấy các pixel có độ quan trọng thấp nhất\n",
    " - Tìm seam có độ quan trọng nhỏ nhất (sử dụng share memory ở v2)"
   ]
  },
  {
   "cell_type": "code",
   "execution_count": null,
   "metadata": {},
   "outputs": [],
   "source": [
    "!./DA_2 in.pnm 400"
   ]
  },
  {
   "cell_type": "code",
   "execution_count": null,
   "metadata": {},
   "outputs": [],
   "source": [
    "!./DA_3 in.pnm 400"
   ]
  },
  {
   "cell_type": "markdown",
   "metadata": {},
   "source": [
    "# 5. So sánh kết quả thực hiện ở các version.\n",
    "- So sánh kết quả chạy tuần tự và song song:\n",
    "- So sánh kết quả chạy song song version 1 và version 2:\n",
    "- So sánh kết quả chạy song song version 2 và version 3:"
   ]
  }
 ],
 "metadata": {
  "accelerator": "GPU",
  "colab": {
   "provenance": []
  },
  "kernelspec": {
   "display_name": "Python 3",
   "language": "python",
   "name": "python3"
  },
  "language_info": {
   "codemirror_mode": {
    "name": "ipython",
    "version": 3
   },
   "file_extension": ".py",
   "mimetype": "text/x-python",
   "name": "python",
   "nbconvert_exporter": "python",
   "pygments_lexer": "ipython3",
   "version": "3.8.5"
  }
 },
 "nbformat": 4,
 "nbformat_minor": 1
}
