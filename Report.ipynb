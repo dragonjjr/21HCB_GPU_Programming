{
 "cells": [
  {
   "cell_type": "markdown",
   "metadata": {
    "id": "eGBgThS8q8k3"
   },
   "source": [
    "#### Nhóm Sinh Viên báo cáo\n",
    "\n",
    "21424028: Nguyễn An Khương\n",
    "\n",
    "21424031: Mai Văn Long\n",
    "\n",
    "21424057: Phan Văn Tình"
   ]
  },
  {
   "cell_type": "code",
   "execution_count": null,
   "metadata": {
    "id": "ndh56odV3lPm"
   },
   "outputs": [],
   "source": [
    "import cv2\n",
    "import numpy as np\n",
    "from matplotlib import pyplot as plt\n",
    "from PIL import Image\n",
    "\n",
    "from numba import cuda\n",
    "major, minor = cuda.get_current_device().compute_capability\n",
    "print(f'GPU compute capability: {major}.{minor}')"
   ]
  },
  {
   "cell_type": "code",
   "execution_count": null,
   "metadata": {
    "id": "FxQxZTY88VGK"
   },
   "outputs": [],
   "source": [
    "def edge_detection(image_path, blur_ksize=7, sobel_ksize=1, skipping_threshold=30):\n",
    "    \"\"\"\n",
    "    image_path: link to image\n",
    "    blur_ksize: kernel size parameter for Gaussian Blurry\n",
    "    sobel_ksize: size of the extended Sobel kernel; it must be 1, 3, 5, or 7.\n",
    "    skipping_threshold: ignore weakly edge\n",
    "    \"\"\"\n",
    "    # read image\n",
    "    img = cv2.imread(image_path)\n",
    "    \n",
    "    # convert BGR to gray\n",
    "    gray = cv2.cvtColor(img, cv2.COLOR_BGR2GRAY)\n",
    "    img_gaussian = cv2.GaussianBlur(gray, (blur_ksize, blur_ksize), 0)\n",
    "    \n",
    "    # sobel algorthm use cv2.CV_64F\n",
    "    sobelx64f = cv2.Sobel(img_gaussian, cv2.CV_64F, 1, 0, ksize=sobel_ksize)\n",
    "    abs_sobel64f = np.absolute(sobelx64f)\n",
    "    img_sobelx = np.uint8(abs_sobel64f)\n",
    "\n",
    "    sobely64f = cv2.Sobel(img_gaussian, cv2.CV_64F, 1, 0, ksize=sobel_ksize)\n",
    "    abs_sobel64f = np.absolute(sobely64f)\n",
    "    img_sobely = np.uint8(abs_sobel64f)\n",
    "    \n",
    "    # calculate magnitude\n",
    "    img_sobel = (img_sobelx + img_sobely)/2\n",
    "    \n",
    "    # ignore weakly pixel\n",
    "    for i in range(img_sobel.shape[0]):\n",
    "        for j in range(img_sobel.shape[1]):\n",
    "            if img_sobel[i][j] < skipping_threshold:\n",
    "                img_sobel[i][j] = 0\n",
    "            else:\n",
    "                img_sobel[i][j] = 255\n",
    "    return img_sobel"
   ]
  },
  {
   "cell_type": "code",
   "execution_count": null,
   "metadata": {
    "id": "gp7Bg38ei4ho"
   },
   "outputs": [],
   "source": [
    "#Hiển thị hình ảnh gốc và ảnh đã qua edge detection\n",
    "img = cv2.imread(\"in.pnm\", 0)\n",
    "# Find edge with Canny edge detection\n",
    "edges = edge_detection(\"in.pnm\")\n",
    "\n",
    "# display results\n",
    "plt.subplot(121), plt.imshow(img, cmap='gray')\n",
    "plt.title('Original Image'), plt.xticks([]), plt.yticks([])\n",
    "plt.subplot(122), plt.imshow(edges, cmap='gray')\n",
    "plt.title('Edge Image'), plt.xticks([]), plt.yticks([])\n",
    "\n",
    "plt.show()"
   ]
  },
  {
   "cell_type": "code",
   "execution_count": null,
   "metadata": {
    "id": "bP75jn2n8XTt"
   },
   "outputs": [],
   "source": [
    "#Hiển thị hình ảnh pnm\n",
    "def show_pnm(file_name):\n",
    "  with open(file_name, 'r') as f:\n",
    "    vals = f.read().split()\n",
    "  w = int(vals[1])\n",
    "  h = int(vals[2])\n",
    "  if vals[0] == 'P2': # Grayscale\n",
    "    pixels = np.array(vals[4:], dtype=np.uint8).reshape((h, w))\n",
    "  elif vals[0] == 'P3': # RGB\n",
    "    pixels = np.array(vals[4:], dtype=np.uint8).reshape((h, w, 3))\n",
    "  else:\n",
    "    return None\n",
    "  \n",
    "  return Image.fromarray(pixels)"
   ]
  },
  {
   "cell_type": "markdown",
   "metadata": {
    "id": "tdaNU9Aui4hs"
   },
   "source": [
    "#### Thực thi build các phiên bản"
   ]
  },
  {
   "cell_type": "code",
   "execution_count": null,
   "metadata": {
    "colab": {
     "base_uri": "https://localhost:8080/"
    },
    "id": "tbFLx1i4JxIE",
    "outputId": "4425f32b-f442-4128-954f-ebb4f9d44041"
   },
   "outputs": [
    {
     "name": "stderr",
     "output_type": "stream",
     "text": [
      "'nvcc' is not recognized as an internal or external command,\n",
      "operable program or batch file.\n",
      "'nvcc' is not recognized as an internal or external command,\n",
      "operable program or batch file.\n",
      "'nvcc' is not recognized as an internal or external command,\n",
      "operable program or batch file.\n"
     ]
    }
   ],
   "source": [
    "!nvcc \"/content/drive/MyDrive/GPU/seamcarving_v1.cu\" -o DA_1\n",
    "!nvcc \"/content/drive/MyDrive/GPU/seamcarving_v2.cu\" -o DA_2\n",
    "!nvcc \"/content/drive/MyDrive/GPU/seamcarving_v3.cu\" -o DA_3"
   ]
  },
  {
   "cell_type": "markdown",
   "metadata": {
    "id": "V6ydO_mEi4hy"
   },
   "source": [
    "# 1. Mô tả ứng dụng"
   ]
  },
  {
   "cell_type": "markdown",
   "metadata": {
    "id": "Nf3309XLi4hz"
   },
   "source": [
    "- Input: một tấm ảnh (đồ án này: ảnh RGB)"
   ]
  },
  {
   "cell_type": "code",
   "execution_count": null,
   "metadata": {
    "id": "k31PD-MCi4h0"
   },
   "outputs": [],
   "source": [
    "show_pnm(\"in.pnm\")"
   ]
  },
  {
   "cell_type": "code",
   "execution_count": null,
   "metadata": {
    "id": "OXAqkS8Ti4h1"
   },
   "outputs": [],
   "source": [
    "!./DA_1 in.pnm 300"
   ]
  },
  {
   "cell_type": "markdown",
   "metadata": {
    "id": "hIc6tdY9i4h2"
   },
   "source": [
    "- Output: tấm ảnh được thay đổi kích thước mà không làm biến dạng các\n",
    "đối tượng quan trọng (đồ án này: tấm ảnh được thu hẹp chiều rộng lại)"
   ]
  },
  {
   "cell_type": "code",
   "execution_count": null,
   "metadata": {
    "id": "Kax87l5Si4h2"
   },
   "outputs": [],
   "source": [
    "show_pnm(\"300_host.pnm\")"
   ]
  },
  {
   "cell_type": "markdown",
   "metadata": {
    "id": "dtKguPcMi4h3"
   },
   "source": [
    "- Ý nghĩa thực tế của ứng dụng: một use case là ta có thể muốn có các\n",
    "phiên bản với các kích thước khác nhau của cùng một tấm ảnh để hiển\n",
    "thị trên các thiết bị khác nhau (máy tính, điện thoại, …)\n",
    "- Ứng dụng này có cần tăng tốc không?\n",
    " + Cần, ứng dụng này chạy chậm khi cài đặt tuần tự"
   ]
  },
  {
   "cell_type": "markdown",
   "metadata": {
    "id": "j60h0D7hi4h4"
   },
   "source": [
    "Ứng dụng thay đổi kích thước ảnh sử dụng thuật toán seam carving"
   ]
  },
  {
   "cell_type": "markdown",
   "metadata": {
    "id": "TVLdgSi4i4h5"
   },
   "source": [
    "#### Sau khi phân tích thuật toán seam carving, từ đó có những bước cần thực hiện sau:\n",
    "1. Đọc file ảnh màu input.\n",
    "2. Tiến hành chuyển ảnh màu sang ảnh xám.\n",
    "3. Sử dụng bộ lọc, tính độ quan trọng của các pixel, từ đó tính toán được các pixel có độ quan trọng thấp nhất.\n",
    "4. Tìm seam có độ quan trọng thấp nhất.\n",
    "5. Xóa seam tìm được.\n",
    "6. Lặp lại việc seam có độ quan trọng thấp nhất và xóa bỏ đến khi tìm được chiều dài mong mu"
   ]
  },
  {
   "cell_type": "markdown",
   "metadata": {
    "id": "x-hjJTX6i4h5"
   },
   "source": [
    "# 2. Cài đặt tuần tự"
   ]
  },
  {
   "cell_type": "markdown",
   "metadata": {
    "id": "5O62Muu2i4h6"
   },
   "source": [
    "#### 1. Chuyển ảnh sang grayscale"
   ]
  },
  {
   "cell_type": "markdown",
   "metadata": {
    "id": "18pgPVObi4h7"
   },
   "source": [
    "$Grayscale = 0.299 * R + 0.587 * G + 0.114 * B$"
   ]
  },
  {
   "cell_type": "code",
   "execution_count": null,
   "metadata": {
    "id": "bU4Sc62Qi4h7"
   },
   "outputs": [],
   "source": [
    "# Đọc ảnh PNM\n",
    "image = Image.open(\"grb_to_gray_in.pnm\")\n",
    "image"
   ]
  },
  {
   "cell_type": "markdown",
   "metadata": {
    "id": "Nw3c9Q_Ki4h8"
   },
   "source": [
    "#### 2. Tính độ quan trọng của mỗi pixel"
   ]
  },
  {
   "cell_type": "markdown",
   "metadata": {
    "id": "9TR1Md-1i4h8"
   },
   "source": [
    "- Thực hiện convolution giữa ảnh grayscale với bộ lọc x-Sobe(1)"
   ]
  },
  {
   "cell_type": "markdown",
   "metadata": {
    "id": "DXsercHMi4h9"
   },
   "source": [
    "| 1 | 0 | -1 |\n",
    "|:-------|:------:|-------:|\n",
    "| 2 | 0 | -2 |\n",
    "| 1 | 0 | -1 |"
   ]
  },
  {
   "cell_type": "markdown",
   "metadata": {
    "id": "h1ojRA30i4h-"
   },
   "source": [
    "Khi bộ lọc được áp lên một pixel trong ảnh(tâm của bộ lọc sẽ áp lên pixel đó), phép nhân giữa các giá trị của bộ lọc và các giá trị tương ứng của pixel trong vùng lân cận của pixel đó sẽ được thực hiện. Kết quả của phép nhân này sẽ được cộng lại để gán vào pixel hiện tại\n",
    "\n",
    "- VD : vị trí hiện tại là i,j"
   ]
  },
  {
   "cell_type": "markdown",
   "metadata": {
    "id": "74Nj94ZHi4h-"
   },
   "source": [
    "| (1 * f(i-1,j-1)) | (0 * f(i-1,j)) | (-1 * f(i-1,j+1)) |\n",
    "|:-------|:------:|-------:|\n",
    "| (2 * f(i,j-1)) | (0 * f(i,j)) | (-2 * f(i,j+1)) |\n",
    "| (1 * f(i+1,j-1)) | (0 * f(i+1,j)) | (-1 * f(i+1,j+1)) |"
   ]
  },
  {
   "cell_type": "markdown",
   "metadata": {
    "id": "c502e9gmi4h_"
   },
   "source": [
    "- Thực hiện convolution giữa ảnh grayscale với bộ lọc y-Sobe(2)"
   ]
  },
  {
   "cell_type": "markdown",
   "metadata": {
    "id": "um1_BEnOi4h_"
   },
   "source": [
    "\n",
    "| 1 | 2 | 1 |\n",
    "|:-------|:------:|-------:|\n",
    "| 2 | 0 | 0 |\n",
    "| -1 | -2 | -1 |"
   ]
  },
  {
   "cell_type": "markdown",
   "metadata": {
    "id": "g9eTxlNQi4iA"
   },
   "source": [
    "Độ quan trọng của một pixel =  |kết quả tương ứng của (1)| + |kết quả tương ứng của (2)|\n"
   ]
  },
  {
   "cell_type": "markdown",
   "metadata": {
    "id": "okYlZcBti4iB"
   },
   "source": [
    "#### 3. Tìm seam ít quan trọng nhất từ độ quan trọng của mỗi pixel"
   ]
  },
  {
   "cell_type": "markdown",
   "metadata": {
    "id": "6q-J9UIli4iB"
   },
   "source": [
    "- Bắt đầu từ height - 1 chúng ta sẽ tính tổng pixel hiện tại với 3 pixel ở hàng height + 1 (trái dưới - dưới - phải dưới) nếu tổng pixel là nhỏ nhất thì ta sẽ lấy giá trị đó làm pixel"
   ]
  },
  {
   "cell_type": "markdown",
   "metadata": {
    "id": "h5-46gBci4iC"
   },
   "source": [
    "- VD: pixel hiện tại là 3: \n",
    " 3 + 5 = 8 > 3 + 3 = 6"
   ]
  },
  {
   "cell_type": "markdown",
   "metadata": {
    "id": "Mc-Tg3p2i4iD"
   },
   "source": [
    "![1.3.1.png](data:image/png;base64,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)\n",
    "![1.3.2.png](data:image/png;base64,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)"
   ]
  },
  {
   "cell_type": "markdown",
   "metadata": {
    "id": "Dg-WC5_Mi4iD"
   },
   "source": [
    "- Cứ tiếp tục làm cho đến khi height = 0 thì ta sẽ có mảng pixel như sau"
   ]
  },
  {
   "cell_type": "markdown",
   "metadata": {
    "id": "4n5Kev9ni4iE"
   },
   "source": [
    "![1.3.3.png](data:image/png;base64,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)"
   ]
  },
  {
   "cell_type": "markdown",
   "metadata": {
    "id": "tnRFct_Bi4iF"
   },
   "source": [
    "- Sau đó ta sẽ đi tìm seam ít quan trọng nhất từ độ quan trọng của các pixel\n",
    "- Seam ít quan trọng nhất là seam có tổng pixel kề(dưới trái - dưới - dưới phải) là nhỏ nhất\n",
    "- Lấy pixel nhỏ nhất của row đầu sau đó so sánh với 3 pixel (dưới trái, dưới, dưới phải) và lấy pixel nhỏ nhất, lặp lại tới height thì dừng"
   ]
  },
  {
   "cell_type": "markdown",
   "metadata": {
    "id": "gbrnMjIsi4iF"
   },
   "source": [
    "![1.3.4.png](data:image/png;base64,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)"
   ]
  },
  {
   "cell_type": "markdown",
   "metadata": {
    "id": "khjSyvNdi4iG"
   },
   "source": [
    "#### 4. Xóa seam ít quan trọng nhất"
   ]
  },
  {
   "cell_type": "markdown",
   "metadata": {
    "id": "Qga2Tlyri4iH"
   },
   "source": [
    "- Sau khi xóa seam ít quan trọng nhất dồn các pixel về trái"
   ]
  },
  {
   "cell_type": "markdown",
   "metadata": {
    "id": "tGmypbbji4iH"
   },
   "source": [
    "![1.3.5.png](data:image/png;base64,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)"
   ]
  },
  {
   "cell_type": "markdown",
   "metadata": {
    "id": "aCI3lECSi4iI"
   },
   "source": [
    "### Lặp lại quá trình từ bước 1 đến bước 4 cho đến khi thu hẹp được chiều rộng như mong muốn"
   ]
  },
  {
   "cell_type": "markdown",
   "metadata": {
    "id": "5DTq_88Yi4iI"
   },
   "source": [
    "Chạy thử thu hẹp chiều rộng bức hình xuống còn 500"
   ]
  },
  {
   "cell_type": "code",
   "execution_count": null,
   "metadata": {
    "id": "qiTbfbx5i4iJ"
   },
   "outputs": [],
   "source": [
    "!./DA_1 in.pnm 500"
   ]
  },
  {
   "cell_type": "code",
   "execution_count": null,
   "metadata": {
    "id": "49QzgOwgi4iJ"
   },
   "outputs": [],
   "source": [
    "show_pnm(\"500_host.pnm\")"
   ]
  },
  {
   "cell_type": "markdown",
   "metadata": {
    "id": "5rKtbe2Ti4iK"
   },
   "source": [
    "Chạy thử thu hẹp chiều rộng bức hình xuống còn 400"
   ]
  },
  {
   "cell_type": "code",
   "execution_count": null,
   "metadata": {
    "id": "L3I2nUlni4iK"
   },
   "outputs": [],
   "source": [
    "!./DA_1 in.pnm 400"
   ]
  },
  {
   "cell_type": "code",
   "execution_count": null,
   "metadata": {
    "id": "GMl2Qlk1i4iL"
   },
   "outputs": [],
   "source": [
    "show_pnm(\"400_host.pnm\")"
   ]
  },
  {
   "cell_type": "markdown",
   "metadata": {
    "id": "HXi4fK0Bi4iL"
   },
   "source": [
    "# 3 .Cài đặt song song"
   ]
  },
  {
   "cell_type": "markdown",
   "metadata": {
    "id": "NnKPPq2Ni4iM"
   },
   "source": [
    "### Để tăng tốc độ thực hiện seam carving, có thể song song hóa các bước sau:\n",
    "\n",
    "\n",
    "- Bước chuyển ảnh sang grayscale không thực sự cần thiết cho quá trình seam carving, nhưng nó có thể được thực hiện song song để tăng tốc độ tính toán.\n",
    "\n",
    "- Tính độ quan trọng của từng pixel trong ảnh: Bước tính độ quan trọng của từng pixel có thể được song song hóa bằng cách chia ảnh thành các phần nhỏ và tính độ quan trọng của từng phần đó trên các thread khác nhau. Sau đó, kết quả có thể được tổng hợp lại để tính toán độ quan trọng của toàn bộ ảnh.\n",
    "\n",
    "- Tìm seam ít quan trọng nhất: Bước tìm seam ít quan trọng nhất có thể được song song hóa bằng cách sử dụng thuật toán tìm kiếm đường đi ít quan trọng nhất trên nhiều thread đồng thời. Mỗi thread sẽ tìm kiếm một phần của ảnh và trả về seam có độ quan trọng nhỏ nhất trên phần đó. Sau đó, các seam được so sánh để tìm ra seam có độ quan trọng nhỏ nhất trên toàn bộ ảnh."
   ]
  },
  {
   "cell_type": "markdown",
   "metadata": {
    "id": "2FobIVK3i4iN"
   },
   "source": [
    "# 4 .Cài đặt tối ưu hóa"
   ]
  },
  {
   "cell_type": "markdown",
   "metadata": {
    "id": "-f3_ncZji4iN"
   },
   "source": [
    " - Tối ưu hóa hàm convert từ ảnh RGB sang ảnh xám\n",
    " - Tính độ quan trọng của các pixel (sử dụng cache memory ở v3 cho tham số x filter, y filter)\n",
    " - Lấy các pixel có độ quan trọng thấp nhất\n",
    " - Tìm seam có độ quan trọng nhỏ nhất (sử dụng share memory ở v2)"
   ]
  },
  {
   "cell_type": "code",
   "execution_count": null,
   "metadata": {
    "id": "sS5Uxbq3i4iO"
   },
   "outputs": [],
   "source": [
    "!./DA_2 in.pnm 400"
   ]
  },
  {
   "cell_type": "code",
   "execution_count": null,
   "metadata": {
    "id": "xxPQK-tVi4iO"
   },
   "outputs": [],
   "source": [
    "!./DA_3 in.pnm 400"
   ]
  },
  {
   "cell_type": "markdown",
   "metadata": {
    "id": "nq-8YaHEi4iP"
   },
   "source": [
    "# 5. So sánh kết quả thực hiện ở các version.\n",
    "- So sánh kết quả chạy tuần tự và song song:\n",
    "- So sánh kết quả chạy song song version 1 và version 2:\n",
    "- So sánh kết quả chạy song song version 2 và version 3:"
   ]
  }
 ],
 "metadata": {
  "accelerator": "GPU",
  "colab": {
   "provenance": []
  },
  "kernelspec": {
   "display_name": "Python 3",
   "language": "python",
   "name": "python3"
  },
  "language_info": {
   "codemirror_mode": {
    "name": "ipython",
    "version": 3
   },
   "file_extension": ".py",
   "mimetype": "text/x-python",
   "name": "python",
   "nbconvert_exporter": "python",
   "pygments_lexer": "ipython3",
   "version": "3.8.5"
  }
 },
 "nbformat": 4,
 "nbformat_minor": 1
}
